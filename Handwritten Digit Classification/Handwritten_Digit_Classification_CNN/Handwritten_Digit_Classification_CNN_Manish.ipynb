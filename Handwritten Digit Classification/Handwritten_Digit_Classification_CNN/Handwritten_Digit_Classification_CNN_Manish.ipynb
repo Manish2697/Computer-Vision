{
  "nbformat": 4,
  "nbformat_minor": 0,
  "metadata": {
    "colab": {
      "provenance": []
    },
    "kernelspec": {
      "name": "python3",
      "display_name": "Python 3"
    },
    "language_info": {
      "name": "python"
    }
  },
  "cells": [
    {
      "cell_type": "markdown",
      "source": [
        "This code is referred from - https://www.youtube.com/watch?v=u3FLVbNn9Os &\n",
        "                                https://www.youtube.com/watch?v=iqQgED9vV7k\n"
      ],
      "metadata": {
        "id": "PsJEG0WD7ZTa"
      }
    },
    {
      "cell_type": "code",
      "source": [
        "pip install tensorflow"
      ],
      "metadata": {
        "id": "1Wrw6xRqCSN7"
      },
      "execution_count": null,
      "outputs": []
    },
    {
      "cell_type": "code",
      "source": [
        "import tensorflow as tf\n",
        "from tensorflow import keras\n",
        "import matplotlib.pyplot as plt"
      ],
      "metadata": {
        "id": "l-XKxf7mCtKf"
      },
      "execution_count": null,
      "outputs": []
    },
    {
      "cell_type": "code",
      "source": [
        "#loading the dataset\n",
        "mnist = tf.keras.datasets.mnist\n",
        "(X_train, y_train) , (X_test, y_test) = mnist.load_data()"
      ],
      "metadata": {
        "id": "c5aBObA0Cx0q",
        "colab": {
          "base_uri": "https://localhost:8080/"
        },
        "outputId": "2c4b6f79-037c-4916-dda9-954960e5c86f"
      },
      "execution_count": null,
      "outputs": [
        {
          "output_type": "stream",
          "name": "stdout",
          "text": [
            "Downloading data from https://storage.googleapis.com/tensorflow/tf-keras-datasets/mnist.npz\n",
            "11490434/11490434 [==============================] - 0s 0us/step\n"
          ]
        }
      ]
    },
    {
      "cell_type": "code",
      "source": [
        "X_train.shape"
      ],
      "metadata": {
        "colab": {
          "base_uri": "https://localhost:8080/"
        },
        "id": "Qt0anJBjDP2A",
        "outputId": "0461083c-066f-4f40-d44d-8348caa2c788"
      },
      "execution_count": null,
      "outputs": [
        {
          "output_type": "execute_result",
          "data": {
            "text/plain": [
              "(60000, 28, 28)"
            ]
          },
          "metadata": {},
          "execution_count": 7
        }
      ]
    },
    {
      "cell_type": "code",
      "source": [
        "plt.imshow(X_train[0])\n",
        "plt.show()\n",
        "plt.imshow(X_train[0], cmap = plt.cm.binary)"
      ],
      "metadata": {
        "colab": {
          "base_uri": "https://localhost:8080/",
          "height": 531
        },
        "id": "A1c4aJUSDflf",
        "outputId": "ee4a4fe2-7aff-4a2f-cf69-3a2e10c74f87"
      },
      "execution_count": null,
      "outputs": [
        {
          "output_type": "display_data",
          "data": {
            "text/plain": [
              "<Figure size 432x288 with 1 Axes>"
            ],
            "image/png": "[encoded data removed]"
          },
          "metadata": {
            "needs_background": "light"
          }
        },
        {
          "output_type": "execute_result",
          "data": {
            "text/plain": [
              "<matplotlib.image.AxesImage at 0x7fee6c9b75e0>"
            ]
          },
          "metadata": {},
          "execution_count": 5
        },
        {
          "output_type": "display_data",
          "data": {
            "text/plain": [
              "<Figure size 432x288 with 1 Axes>"
            ],
            "image/png": "[encoded data removed]"
          },
          "metadata": {
            "needs_background": "light"
          }
        }
      ]
    },
    {
      "cell_type": "code",
      "source": [
        "#before normalization\n",
        "print(X_train[0])"
      ],
      "metadata": {
        "id": "7j0-yDYzDwdH"
      },
      "execution_count": null,
      "outputs": []
    },
    {
      "cell_type": "code",
      "source": [
        "X_train = X_train / 255\n",
        "X_test = X_test / 255\n",
        "\n",
        "plt.imshow(X_train[0], cmap = plt.cm.binary)"
      ],
      "metadata": {
        "id": "GINr7eFTEgWk"
      },
      "execution_count": null,
      "outputs": []
    },
    {
      "cell_type": "code",
      "source": [
        "print(X_train[0]) #After normalization, we see the values between 0 and 1"
      ],
      "metadata": {
        "id": "4_pCWoLyFvxU"
      },
      "execution_count": null,
      "outputs": []
    },
    {
      "cell_type": "code",
      "source": [
        "print(y_train[0])"
      ],
      "metadata": {
        "colab": {
          "base_uri": "https://localhost:8080/"
        },
        "id": "NHCAhCtyFzyn",
        "outputId": "e5479dc5-a8bb-4a34-f887-9c3d057dcbe1"
      },
      "execution_count": null,
      "outputs": [
        {
          "output_type": "stream",
          "name": "stdout",
          "text": [
            "5\n"
          ]
        }
      ]
    },
    {
      "cell_type": "code",
      "source": [
        "#Adding dimension for convolution filter operation\n",
        "import numpy as np\n",
        "IMG_SIZE = 28\n",
        "X_trainD = np.array(X_train).reshape(-1, IMG_SIZE,IMG_SIZE,1)\n",
        "X_testD = np.array(X_test).reshape(-1, IMG_SIZE,IMG_SIZE,1)\n",
        "print(\"Training new sample Dimensions\", X_trainD.shape)\n",
        "print(\"Testing new sample Dimensions\", X_testD.shape)"
      ],
      "metadata": {
        "colab": {
          "base_uri": "https://localhost:8080/"
        },
        "id": "LIl_nPneF9L9",
        "outputId": "b1559db4-80c6-4d2a-d008-2ffe5001a865"
      },
      "execution_count": null,
      "outputs": [
        {
          "output_type": "stream",
          "name": "stdout",
          "text": [
            "Training new sample Dimensions (60000, 28, 28, 1)\n",
            "Testing new sample Dimensions (10000, 28, 28, 1)\n"
          ]
        }
      ]
    },
    {
      "cell_type": "code",
      "source": [
        "from tensorflow.keras.models import Sequential\n",
        "from tensorflow.keras.layers import Dense, Activation, Flatten, Conv2D, MaxPooling2D"
      ],
      "metadata": {
        "id": "KDENh7CxPVCk"
      },
      "execution_count": null,
      "outputs": []
    },
    {
      "cell_type": "code",
      "source": [
        "#Creating Neural Network\n",
        "model = Sequential()\n",
        "# First Convolution Layer\n",
        "model.add(Conv2D(64, (3,3), input_shape =X_trainD.shape[1:], activation = 'relu')) # 28-3+1 (26*26)\n",
        "#model.add(Activation('relu')) #Activation function, NonLinear, <0 reject\n",
        "model.add(MaxPooling2D(pool_size = (2,2))) # (13*13)\n",
        "\n",
        "# Second Convolution Layer\n",
        "model.add(Conv2D(64, (3,3), activation = 'relu'))\n",
        "#model.add(Activation('relu'))\n",
        "model.add(MaxPooling2D(pool_size = (2,2)))\n",
        "\n",
        "# Third Convolution Layer\n",
        "model.add(Conv2D(64, (3,3), activation = 'relu'))\n",
        "#model.add(Activation('relu'))\n",
        "model.add(MaxPooling2D(pool_size = (2,2)))"
      ],
      "metadata": {
        "id": "nbYld3WBPnHI"
      },
      "execution_count": null,
      "outputs": []
    },
    {
      "cell_type": "code",
      "source": [
        "###Fully flattened layer #1\n",
        "model.add (Flatten())\n",
        "model.add (Dense(64, activation = 'relu'))\n",
        "#model.add(Activation('relu'))\n",
        "\n",
        "#layer 2\n",
        "model.add (Dense(32, activation = 'relu'))\n",
        "#model.add(Activation('relu'))\n",
        "\n",
        "#layer 3\n",
        "model.add (Dense(10, activation = 'softmax')) #Last dense layer is 10 as we have 10 classes to be defined (0-9)\n",
        "#model.add(Activation('softmax')) #Using softmax function at output layer as we have multi-classification\n"
      ],
      "metadata": {
        "id": "MQG2oVqhTYzS"
      },
      "execution_count": null,
      "outputs": []
    },
    {
      "cell_type": "code",
      "source": [
        "model.summary()"
      ],
      "metadata": {
        "colab": {
          "base_uri": "https://localhost:8080/"
        },
        "id": "Eox1r3bxYEQQ",
        "outputId": "8a0de341-89c5-4637-f772-982886ebeef4"
      },
      "execution_count": null,
      "outputs": [
        {
          "output_type": "stream",
          "name": "stdout",
          "text": [
            "Model: \"sequential\"\n",
            "_________________________________________________________________\n",
            " Layer (type)                Output Shape              Param #   \n",
            "=================================================================\n",
            " conv2d (Conv2D)             (None, 26, 26, 64)        640       \n",
            "                                                                 \n",
            " max_pooling2d (MaxPooling2D  (None, 13, 13, 64)       0         \n",
            " )                                                               \n",
            "                                                                 \n",
            " conv2d_1 (Conv2D)           (None, 11, 11, 64)        36928     \n",
            "                                                                 \n",
            " max_pooling2d_1 (MaxPooling  (None, 5, 5, 64)         0         \n",
            " 2D)                                                             \n",
            "                                                                 \n",
            " conv2d_2 (Conv2D)           (None, 3, 3, 64)          36928     \n",
            "                                                                 \n",
            " max_pooling2d_2 (MaxPooling  (None, 1, 1, 64)         0         \n",
            " 2D)                                                             \n",
            "                                                                 \n",
            " flatten (Flatten)           (None, 64)                0         \n",
            "                                                                 \n",
            " dense (Dense)               (None, 64)                4160      \n",
            "                                                                 \n",
            " dense_1 (Dense)             (None, 32)                2080      \n",
            "                                                                 \n",
            " dense_2 (Dense)             (None, 10)                330       \n",
            "                                                                 \n",
            "=================================================================\n",
            "Total params: 81,066\n",
            "Trainable params: 81,066\n",
            "Non-trainable params: 0\n",
            "_________________________________________________________________\n"
          ]
        }
      ]
    },
    {
      "cell_type": "code",
      "source": [
        "model.compile(loss = \"sparse_categorical_crossentropy\", optimizer = \"adam\", metrics = ['accuracy'])"
      ],
      "metadata": {
        "id": "oNnGbzNpYG7S"
      },
      "execution_count": null,
      "outputs": []
    },
    {
      "cell_type": "code",
      "source": [
        "model.fit (X_trainD, y_train, epochs=5, validation_split = 0.3) #Training model"
      ],
      "metadata": {
        "colab": {
          "base_uri": "https://localhost:8080/"
        },
        "id": "4egAFksodL8k",
        "outputId": "711fcc52-7131-43ec-a3d6-80d1b3d9914c"
      },
      "execution_count": null,
      "outputs": [
        {
          "output_type": "stream",
          "name": "stdout",
          "text": [
            "Epoch 1/5\n",
            "1313/1313 [==============================] - 76s 57ms/step - loss: 0.2664 - accuracy: 0.9172 - val_loss: 0.1392 - val_accuracy: 0.9582\n",
            "Epoch 2/5\n",
            "1313/1313 [==============================] - 73s 56ms/step - loss: 0.0855 - accuracy: 0.9740 - val_loss: 0.0889 - val_accuracy: 0.9724\n",
            "Epoch 3/5\n",
            "1313/1313 [==============================] - 72s 55ms/step - loss: 0.0621 - accuracy: 0.9810 - val_loss: 0.0774 - val_accuracy: 0.9762\n",
            "Epoch 4/5\n",
            "1313/1313 [==============================] - 74s 56ms/step - loss: 0.0502 - accuracy: 0.9852 - val_loss: 0.0613 - val_accuracy: 0.9821\n",
            "Epoch 5/5\n",
            "1313/1313 [==============================] - 73s 56ms/step - loss: 0.0397 - accuracy: 0.9873 - val_loss: 0.0592 - val_accuracy: 0.9831\n"
          ]
        },
        {
          "output_type": "execute_result",
          "data": {
            "text/plain": [
              "<keras.callbacks.History at 0x7fd80f767b20>"
            ]
          },
          "metadata": {},
          "execution_count": 16
        }
      ]
    },
    {
      "cell_type": "code",
      "source": [
        "test_loss, test_acc = model.evaluate(X_testD, y_test)\n",
        "print(\"Test loss on 10000\", test_loss)\n",
        "print(\"Val Acc on 10000\", test_acc)"
      ],
      "metadata": {
        "colab": {
          "base_uri": "https://localhost:8080/"
        },
        "id": "Z8-_Pf6veguK",
        "outputId": "a5995a35-3949-4ed7-b8ee-125efa1d47ac"
      },
      "execution_count": null,
      "outputs": [
        {
          "output_type": "stream",
          "name": "stdout",
          "text": [
            "313/313 [==============================] - 5s 15ms/step - loss: 0.0526 - accuracy: 0.9846\n",
            "Test loss on 10000 0.05255160480737686\n",
            "Val Acc on 10000 0.9846000075340271\n"
          ]
        }
      ]
    },
    {
      "cell_type": "code",
      "source": [
        "y_predictions = model.predict([X_testD])"
      ],
      "metadata": {
        "colab": {
          "base_uri": "https://localhost:8080/"
        },
        "id": "41_j6lJfgdaI",
        "outputId": "19cf9efb-110a-43b3-b40a-43e39063a8e8"
      },
      "execution_count": null,
      "outputs": [
        {
          "output_type": "stream",
          "name": "stdout",
          "text": [
            "313/313 [==============================] - 5s 15ms/step\n"
          ]
        }
      ]
    },
    {
      "cell_type": "code",
      "source": [
        "print (y_predictions)"
      ],
      "metadata": {
        "colab": {
          "base_uri": "https://localhost:8080/"
        },
        "id": "EbewclrIhKS7",
        "outputId": "d2058340-7215-4f85-d846-3d27d52f221a"
      },
      "execution_count": null,
      "outputs": [
        {
          "output_type": "stream",
          "name": "stdout",
          "text": [
            "[[4.7335775e-09 9.1914927e-07 2.5909990e-06 ... 9.9999255e-01\n",
            "  6.5993668e-09 5.3505579e-07]\n",
            " [2.2219248e-05 3.4947183e-07 9.9996883e-01 ... 5.7091103e-07\n",
            "  9.8400847e-07 1.4807526e-08]\n",
            " [1.4560086e-06 9.9994940e-01 4.2181799e-07 ... 2.8421442e-05\n",
            "  6.7300889e-06 5.9882888e-07]\n",
            " ...\n",
            " [4.9452936e-10 1.8432000e-07 1.2502110e-10 ... 6.5541684e-08\n",
            "  5.4274853e-08 1.8949693e-07]\n",
            " [7.2531593e-06 4.0246801e-09 6.5051630e-08 ... 5.8816880e-09\n",
            "  4.5124398e-04 7.3857940e-05]\n",
            " [8.1665727e-05 9.3916782e-08 1.7465531e-05 ... 3.1834954e-08\n",
            "  1.6385387e-04 6.1499429e-07]]\n"
          ]
        }
      ]
    },
    {
      "cell_type": "code",
      "source": [
        "plt.imshow(X_test[12])\n",
        "plt.show\n",
        "print (\"Predicted number is: \",  np.argmax(y_predictions[12]))"
      ],
      "metadata": {
        "colab": {
          "base_uri": "https://localhost:8080/",
          "height": 283
        },
        "id": "-QKqM1xlhQ_Z",
        "outputId": "c6ab4de1-6d13-43ff-8735-2649575380f7"
      },
      "execution_count": null,
      "outputs": [
        {
          "output_type": "stream",
          "name": "stdout",
          "text": [
            "Predicted number is:  9\n"
          ]
        },
        {
          "output_type": "display_data",
          "data": {
            "text/plain": [
              "<Figure size 432x288 with 1 Axes>"
            ],
            "image/png": "[encoded data removed]"
          },
          "metadata": {
            "needs_background": "light"
          }
        }
      ]
    },
    {
      "cell_type": "code",
      "source": [
        "y_predicted_labels = [np.argmax(i) for i in y_predictions]\n",
        "confusion_matrix = tf.math.confusion_matrix(labels=y_test,predictions=y_predicted_labels)\n",
        "import seaborn as sn\n",
        "plt.figure(figsize = (10,7))\n",
        "sn.heatmap(confusion_matrix, annot=True, fmt='d')\n",
        "plt.xlabel('Predicted')\n",
        "plt.ylabel('Truth')\n"
      ],
      "metadata": {
        "colab": {
          "base_uri": "https://localhost:8080/",
          "height": 460
        },
        "id": "MTmE0zaWTD4m",
        "outputId": "a30f348f-6c15-4e46-c043-dbdd9942a03e"
      },
      "execution_count": null,
      "outputs": [
        {
          "output_type": "execute_result",
          "data": {
            "text/plain": [
              "Text(69.0, 0.5, 'Truth')"
            ]
          },
          "metadata": {},
          "execution_count": 24
        },
        {
          "output_type": "display_data",
          "data": {
            "text/plain": [
              "<Figure size 720x504 with 2 Axes>"
            ],
            "image/png": "[encoded data removed]"
          },
          "metadata": {
            "needs_background": "light"
          }
        }
      ]
    },
    {
      "cell_type": "code",
      "source": [],
      "metadata": {
        "id": "Rb-1bw-pe5I9"
      },
      "execution_count": null,
      "outputs": []
    }
  ]
}